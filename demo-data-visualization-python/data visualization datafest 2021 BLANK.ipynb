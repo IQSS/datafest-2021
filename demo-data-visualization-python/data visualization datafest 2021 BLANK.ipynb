{
 "cells": [
  {
   "cell_type": "markdown",
   "metadata": {},
   "source": [
    "## Data Visualization Strategies  - Harvard DataFest 2021\n",
    "\n",
    "#### Elizabeth Piette, PhD MPH\n",
    "#### Research Computing Services, Harvard Business School\n",
    "\n",
    "This session will provide a brief introduction to plotting with seaborn and plotly to visualize the temporal and spatial trends in the COVID-19 case data."
   ]
  },
  {
   "cell_type": "code",
   "execution_count": 1,
   "metadata": {},
   "outputs": [],
   "source": [
    "import pandas as pd\n",
    "import matplotlib.pyplot as plt\n",
    "import seaborn as sns\n",
    "sns.set_context(\"poster\")\n",
    "import plotly.express as px\n",
    "import ipywidgets as widgets\n",
    "from ipywidgets import interact"
   ]
  },
  {
   "cell_type": "markdown",
   "metadata": {},
   "source": [
    "### Visualizing case rates over time with line plots"
   ]
  },
  {
   "cell_type": "code",
   "execution_count": 2,
   "metadata": {},
   "outputs": [],
   "source": [
    "# read in data cleaned previously\n",
    "\n"
   ]
  },
  {
   "cell_type": "code",
   "execution_count": 3,
   "metadata": {},
   "outputs": [],
   "source": [
    "# line plot of covid case rates \n",
    "\n"
   ]
  },
  {
   "cell_type": "code",
   "execution_count": 4,
   "metadata": {
    "scrolled": false
   },
   "outputs": [],
   "source": [
    "# grid of covid case rates by state\n",
    "\n"
   ]
  },
  {
   "cell_type": "code",
   "execution_count": 5,
   "metadata": {},
   "outputs": [],
   "source": [
    "# interactive plot of covid case rates\n",
    "\n"
   ]
  },
  {
   "cell_type": "code",
   "execution_count": 6,
   "metadata": {},
   "outputs": [],
   "source": [
    "# interactive plots of covid case rates with a dropdown menu for selecting state\n",
    "\n"
   ]
  },
  {
   "cell_type": "markdown",
   "metadata": {},
   "source": [
    "### Visualizing case rates by state with chloropleth maps"
   ]
  },
  {
   "cell_type": "code",
   "execution_count": 7,
   "metadata": {},
   "outputs": [],
   "source": [
    "# read previously cleaned weekly dataset\n",
    "\n"
   ]
  },
  {
   "cell_type": "code",
   "execution_count": 8,
   "metadata": {},
   "outputs": [],
   "source": [
    "# chloropleth maps in plotly take two-letter states codes, so here's a dictionary of names to abbreviations\n",
    "\n",
    "state_codes = {'Alabama': 'AL', 'Alaska': 'AK', 'Arizona': 'AZ', 'Arkansas': 'AR', 'California': 'CA',\n",
    "               'Colorado': 'CO', 'Connecticut': 'CT', 'Delaware': 'DE', 'District of Columbia': 'DC', 'Florida': 'FL',\n",
    "               'Georgia': 'GA', 'Hawaii': 'HI', 'Idaho': 'ID', 'Illinois': 'IL', 'Indiana': 'IN',\n",
    "               'Iowa': 'IA', 'Kansas': 'KS', 'Kentucky': 'KY', 'Louisiana': 'LA', 'Maine': 'ME',\n",
    "               'Maryland': 'MD', 'Massachusetts': 'MA', 'Michigan': 'MI', 'Minnesota': 'MN', 'Mississippi': 'MS',\n",
    "               'Missouri': 'MO', 'Montana': 'MT', 'Nebraska': 'NE', 'Nevada': 'NV', 'New Hampshire': 'NH',\n",
    "               'New Jersey': 'NJ', 'New Mexico': 'NM', 'New York': 'NY', 'North Carolina': 'NC', 'North Dakota': 'ND',\n",
    "               'Ohio': 'OH', 'Oklahoma': 'OK', 'Oregon': 'OR', 'Pennsylvania': 'PA', 'Rhode Island': 'RI',\n",
    "               'South Carolina': 'SC', 'South Dakota': 'SD', 'Tennessee': 'TN', 'Texas': 'TX', 'Utah': 'UT',\n",
    "               'Vermont': 'VT', 'Virginia': 'VA', 'Washington': 'WA', 'West Virginia': 'WV', 'Wisconsin': 'WI',\n",
    "               'Wyoming': 'WY'}\n",
    "\n",
    "\n"
   ]
  },
  {
   "cell_type": "code",
   "execution_count": 9,
   "metadata": {},
   "outputs": [],
   "source": [
    "# interactive chloropleth map - let's just look at the most recent week for now\n",
    "\n"
   ]
  },
  {
   "cell_type": "code",
   "execution_count": 10,
   "metadata": {},
   "outputs": [],
   "source": [
    "# interactive chloropleth map with a slider for selecting the week\n",
    "\n"
   ]
  },
  {
   "cell_type": "code",
   "execution_count": 11,
   "metadata": {},
   "outputs": [],
   "source": [
    "# animated chloropleth map\n",
    "\n"
   ]
  },
  {
   "cell_type": "markdown",
   "metadata": {},
   "source": [
    "### Visualizing relationships between variables"
   ]
  },
  {
   "cell_type": "code",
   "execution_count": 12,
   "metadata": {},
   "outputs": [],
   "source": [
    "# read in data with demographic info\n",
    "\n"
   ]
  },
  {
   "cell_type": "code",
   "execution_count": 13,
   "metadata": {},
   "outputs": [],
   "source": [
    "# let's focus on the most recent week\n",
    "\n"
   ]
  },
  {
   "cell_type": "code",
   "execution_count": 14,
   "metadata": {},
   "outputs": [],
   "source": [
    "# interactive scatter plot of population count vs cumulative cases\n",
    "\n"
   ]
  },
  {
   "cell_type": "code",
   "execution_count": 15,
   "metadata": {},
   "outputs": [],
   "source": [
    "# animated interactive scatter plot of population count vs cumulative cases over time\n",
    "\n"
   ]
  },
  {
   "cell_type": "code",
   "execution_count": 16,
   "metadata": {},
   "outputs": [],
   "source": [
    "# unfortunately, our data set is rather lacking in binary and categorical variables\n",
    "# let's create some just so we can practice using them to add more information to plots\n",
    "\n",
    "# we'll create a variable for 'older' vs. 'younger' states based on the median of percent_age65over\n",
    "\n"
   ]
  },
  {
   "cell_type": "code",
   "execution_count": 17,
   "metadata": {},
   "outputs": [],
   "source": [
    "# animated interactive scatter plot of population count vs cumulative cases over time, 'older' vs. 'younger' states\n",
    "\n"
   ]
  },
  {
   "cell_type": "code",
   "execution_count": 18,
   "metadata": {},
   "outputs": [],
   "source": [
    "# let's also create a categorical variable grouping states into regions. here's a handy dictionary\n",
    "\n",
    "state_regions = {'Alabama': 'south', 'Alaska': 'west', 'Arizona': 'west', 'Arkansas': 'south', 'California': 'west',\n",
    "               'Colorado': 'west', 'Connecticut': 'northeast', 'Delaware': 'south', 'District of Columbia': 'south', 'Florida': 'south',\n",
    "               'Georgia': 'south', 'Hawaii': 'west', 'Idaho': 'west', 'Illinois': 'midwest', 'Indiana': 'midwest',\n",
    "               'Iowa': 'midwest', 'Kansas': 'midwest', 'Kentucky': 'south', 'Louisiana': 'south', 'Maine': 'northeast',\n",
    "               'Maryland': 'south', 'Massachusetts': 'northeast', 'Michigan': 'midwest', 'Minnesota': 'midwest', 'Mississippi': 'south',\n",
    "               'Missouri': 'midwest', 'Montana': 'west', 'Nebraska': 'midwest', 'Nevada': 'west', 'New Hampshire': 'northeast',\n",
    "               'New Jersey': 'northeast', 'New Mexico': 'west', 'New York': 'northeast', 'North Carolina': 'south', 'North Dakota': 'midwest',\n",
    "               'Ohio': 'midwest', 'Oklahoma': 'south', 'Oregon': 'west', 'Pennsylvania': 'northeast', 'Rhode Island': 'northeast',\n",
    "               'South Carolina': 'south', 'South Dakota': 'midwest', 'Tennessee': 'south', 'Texas': 'south', 'Utah': 'west',\n",
    "               'Vermont': 'northeast', 'Virginia': 'south', 'Washington': 'west', 'West Virginia': 'south', 'Wisconsin': 'midwest',\n",
    "               'Wyoming': 'west'}\n",
    "\n"
   ]
  },
  {
   "cell_type": "code",
   "execution_count": 19,
   "metadata": {},
   "outputs": [],
   "source": [
    "# let's look at the distributions of case rates by region for the most recent week\n",
    "\n"
   ]
  },
  {
   "cell_type": "code",
   "execution_count": 20,
   "metadata": {},
   "outputs": [],
   "source": [
    "# we can also combine scatter plots with marginal distribution plots to produce a very information-rich graphic\n",
    "\n"
   ]
  },
  {
   "cell_type": "markdown",
   "metadata": {},
   "source": [
    "### Practice session\n",
    "\n",
    "For the remainder of the session, we will practice making our own visualizations. At the end, we will regroup to share what we've made and discuss any questions that may have arisen. \n",
    "\n",
    "Here is a bit of inspiration - if we look at line plots of case rates grouped by region, we can clearly see differences in the case rates and timing of surges by region."
   ]
  },
  {
   "cell_type": "code",
   "execution_count": 21,
   "metadata": {},
   "outputs": [],
   "source": [
    "# interactive plots of covid case rates with a dropdown menu for selecting regions\n",
    "\n"
   ]
  }
 ],
 "metadata": {
  "kernelspec": {
   "display_name": "Python 3",
   "language": "python",
   "name": "python3"
  },
  "language_info": {
   "codemirror_mode": {
    "name": "ipython",
    "version": 3
   },
   "file_extension": ".py",
   "mimetype": "text/x-python",
   "name": "python",
   "nbconvert_exporter": "python",
   "pygments_lexer": "ipython3",
   "version": "3.7.3"
  }
 },
 "nbformat": 4,
 "nbformat_minor": 2
}

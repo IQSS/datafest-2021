{
 "cells": [
  {
   "cell_type": "code",
   "execution_count": null,
   "id": "exterior-chair",
   "metadata": {},
   "outputs": [],
   "source": [
    "import pandas as pd\n",
    "from pyDataverse.api import Api\n",
    "import io"
   ]
  },
  {
   "cell_type": "code",
   "execution_count": null,
   "id": "taken-executive",
   "metadata": {},
   "outputs": [],
   "source": [
    "# get the digital object identifier for the Dataverse dataset\n",
    "doi = \"doi:10.7910/DVN/HIDLTK\"\n",
    "base_url = \"https://dataverse.harvard.edu\"\n",
    "api_token = \"\""
   ]
  },
  {
   "cell_type": "code",
   "execution_count": null,
   "id": "proud-apollo",
   "metadata": {},
   "outputs": [],
   "source": [
    "# establish connection and retrieve contents of the dataset\n",
    "api = Api(base_url, api_token)\n",
    "resp = api.get_dataset(doi)\n",
    "\n",
    "# The covid object is a list of metadata that includes \n",
    "# information on all the files stored within this dataset\n",
    "datafiles = resp.json()[\"data\"][\"latestVersion\"][\"files\"]\n",
    "\n",
    "# Let’s dig further and display the available files\n",
    "for df in datafiles:\n",
    "    filename = df[\"dataFile\"][\"filename\"]\n",
    "    datafile_id = df[\"dataFile\"][\"id\"]\n",
    "    print(f'Filename is \"{filename}\", datafile ID is \"{datafile_id}\"')"
   ]
  },
  {
   "cell_type": "code",
   "execution_count": null,
   "id": "registered-cowboy",
   "metadata": {},
   "outputs": [],
   "source": [
    "# For this example, we’re going to use the data on cumulative COVID-19 cases\n",
    "# at the state-level contained in the us_state_confirmed_case.tab file, \n",
    "# which has the ID 4201597\n",
    "datafile_id = \"4274786\"\n",
    "resp = api.get_datafile(datafile_id)\n",
    "print(resp.content)"
   ]
  },
  {
   "cell_type": "code",
   "execution_count": null,
   "id": "becoming-player",
   "metadata": {},
   "outputs": [],
   "source": [
    "# Let's retrieve the specific file we want and turn it into a Pandas DataFrame\n",
    "filename = \"us_states_cases.tab\"\n",
    "data = io.StringIO(str(resp.content,'utf-8'))\n",
    "us_states_cases = pd.read_csv(data, sep=\"\\t\")\n",
    "print(us_states_cases.head(10))"
   ]
  }
 ],
 "metadata": {
  "kernelspec": {
   "display_name": "datafest_2021",
   "language": "python",
   "name": "datafest_2021"
  },
  "language_info": {
   "codemirror_mode": {
    "name": "ipython",
    "version": 3
   },
   "file_extension": ".py",
   "mimetype": "text/x-python",
   "name": "python",
   "nbconvert_exporter": "python",
   "pygments_lexer": "ipython3",
   "version": "3.7.7"
  }
 },
 "nbformat": 4,
 "nbformat_minor": 5
}
